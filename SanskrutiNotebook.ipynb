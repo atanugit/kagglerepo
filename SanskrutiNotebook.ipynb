{
 "cells": [
  {
   "cell_type": "code",
   "execution_count": 1,
   "id": "3105f931",
   "metadata": {
    "_cell_guid": "b1076dfc-b9ad-4769-8c92-a6c4dae69d19",
    "_uuid": "8f2839f25d086af736a60e9eeb907d3b93b6e0e5",
    "execution": {
     "iopub.execute_input": "2024-11-26T06:31:43.218775Z",
     "iopub.status.busy": "2024-11-26T06:31:43.218194Z",
     "iopub.status.idle": "2024-11-26T06:31:44.169434Z",
     "shell.execute_reply": "2024-11-26T06:31:44.168202Z"
    },
    "papermill": {
     "duration": 0.959815,
     "end_time": "2024-11-26T06:31:44.172399",
     "exception": false,
     "start_time": "2024-11-26T06:31:43.212584",
     "status": "completed"
    },
    "tags": []
   },
   "outputs": [],
   "source": [
    "import pandas as pd\n",
    "\n",
    "df=pd.read_csv('/kaggle/input/sample-data/sample_data.csv');\n",
    "df1=df[df['Department']=='Software']\n",
    "df1.to_csv('/kaggle/working/sanskruti.csv');"
   ]
  }
 ],
 "metadata": {
  "kaggle": {
   "accelerator": "none",
   "dataSources": [
    {
     "datasetId": 5811420,
     "sourceId": 9629848,
     "sourceType": "datasetVersion"
    }
   ],
   "dockerImageVersionId": 30786,
   "isGpuEnabled": false,
   "isInternetEnabled": false,
   "language": "python",
   "sourceType": "notebook"
  },
  "kernelspec": {
   "display_name": "Python 3",
   "language": "python",
   "name": "python3"
  },
  "language_info": {
   "codemirror_mode": {
    "name": "ipython",
    "version": 3
   },
   "file_extension": ".py",
   "mimetype": "text/x-python",
   "name": "python",
   "nbconvert_exporter": "python",
   "pygments_lexer": "ipython3",
   "version": "3.10.14"
  },
  "papermill": {
   "default_parameters": {},
   "duration": 4.513351,
   "end_time": "2024-11-26T06:31:44.797131",
   "environment_variables": {},
   "exception": null,
   "input_path": "__notebook__.ipynb",
   "output_path": "__notebook__.ipynb",
   "parameters": {},
   "start_time": "2024-11-26T06:31:40.283780",
   "version": "2.6.0"
  }
 },
 "nbformat": 4,
 "nbformat_minor": 5
}
